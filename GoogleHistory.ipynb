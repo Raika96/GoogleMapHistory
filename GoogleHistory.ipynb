{
 "cells": [
  {
   "cell_type": "code",
   "execution_count": 17,
   "metadata": {},
   "outputs": [],
   "source": [
    "import pandas as pd, numpy as np, matplotlib.pyplot as plt, json, math, random"
   ]
  },
  {
   "cell_type": "markdown",
   "metadata": {},
   "source": [
    "First you need to download your google map history from [Google Takeout](https://takeout.google.com/settings/takeout?pli=1). Currently, Google map history folder structure is as follows:\n",
    "- Location History\n",
    "    - Semantic Location Hisory\n",
    "- Maps\n",
    "-Maps (your places)\n",
    "\n",
    "The data that we need is inside the Semantic Location History folder. You can load the data of the month that you intend to analyze."
   ]
  },
  {
   "cell_type": "code",
   "execution_count": 18,
   "metadata": {},
   "outputs": [],
   "source": [
    "hist = json.load(open('Location-of-json-file',))\n",
    "timelineObjects = hist['timelineObjects']"
   ]
  },
  {
   "cell_type": "markdown",
   "metadata": {},
   "source": [
    "The data is consisted of \"placeVisit\" and \"activitySegment\", and \"placeVisit\" is used for generating the list of visited cities."
   ]
  },
  {
   "cell_type": "code",
   "execution_count": 19,
   "metadata": {},
   "outputs": [],
   "source": [
    "counter = 0\n",
    "timelineList = []\n",
    "placesVisited = []\n",
    "for obj in timelineObjects:\n",
    "    counter += 1\n",
    "    type = list(obj.keys())\n",
    "    if type == ['placeVisit']:\n",
    "        placesVisited.append(obj)\n"
   ]
  },
  {
   "cell_type": "code",
   "execution_count": 20,
   "metadata": {},
   "outputs": [],
   "source": [
    "cities = []\n",
    "df = pd.DataFrame(columns= ['Date', 'City'])\n",
    "from datetime import datetime\n",
    "\n",
    "\n",
    "counter = 0\n",
    "for place in placesVisited:\n",
    "    address = place['placeVisit']['location']['address']\n",
    "    nlf = '\\n'\n",
    "    city = address[address.index(nlf)+1:address.index(',')]\n",
    "    if city is \"\":\n",
    "        continue\n",
    "    cities.append(city)\n",
    "    startTime = place['placeVisit']['duration'][\"startTimestampMs\"]\n",
    "    time = datetime.fromtimestamp(int(startTime[:-3]))\n",
    "    df.loc[counter] = [str(time)[:10], city] \n",
    "    counter+=1\n",
    "    "
   ]
  },
  {
   "cell_type": "markdown",
   "metadata": {},
   "source": [
    "If you wanted to remove the cities that you are living to remove the spare information, you should just edit the MyCities list."
   ]
  },
  {
   "cell_type": "code",
   "execution_count": 21,
   "metadata": {},
   "outputs": [],
   "source": [
    "MyCities = ['Toronto', 'North York']\n",
    "df.drop_duplicates(inplace=True)\n",
    "df = df[~df['City'].isin(MyCities)]"
   ]
  },
  {
   "cell_type": "markdown",
   "metadata": {},
   "source": [
    "Now the list of cities and date of visit is stored in df data frame."
   ]
  },
  {
   "cell_type": "code",
   "execution_count": 22,
   "metadata": {},
   "outputs": [
    {
     "data": {
      "text/html": [
       "<div>\n",
       "<style scoped>\n",
       "    .dataframe tbody tr th:only-of-type {\n",
       "        vertical-align: middle;\n",
       "    }\n",
       "\n",
       "    .dataframe tbody tr th {\n",
       "        vertical-align: top;\n",
       "    }\n",
       "\n",
       "    .dataframe thead th {\n",
       "        text-align: right;\n",
       "    }\n",
       "</style>\n",
       "<table border=\"1\" class=\"dataframe\">\n",
       "  <thead>\n",
       "    <tr style=\"text-align: right;\">\n",
       "      <th></th>\n",
       "      <th>Date</th>\n",
       "      <th>City</th>\n",
       "    </tr>\n",
       "  </thead>\n",
       "  <tbody>\n",
       "    <tr>\n",
       "      <th>0</th>\n",
       "      <td>2021-10-01</td>\n",
       "      <td>Thornhill</td>\n",
       "    </tr>\n",
       "    <tr>\n",
       "      <th>2</th>\n",
       "      <td>2021-10-01</td>\n",
       "      <td>Scarborough</td>\n",
       "    </tr>\n",
       "    <tr>\n",
       "      <th>10</th>\n",
       "      <td>2021-10-02</td>\n",
       "      <td>Barrie</td>\n",
       "    </tr>\n",
       "    <tr>\n",
       "      <th>11</th>\n",
       "      <td>2021-10-02</td>\n",
       "      <td>Huntsville</td>\n",
       "    </tr>\n",
       "    <tr>\n",
       "      <th>14</th>\n",
       "      <td>2021-10-02</td>\n",
       "      <td>Barry's Bay</td>\n",
       "    </tr>\n",
       "    <tr>\n",
       "      <th>15</th>\n",
       "      <td>2021-10-02</td>\n",
       "      <td>Ottawa</td>\n",
       "    </tr>\n",
       "    <tr>\n",
       "      <th>22</th>\n",
       "      <td>2021-10-03</td>\n",
       "      <td>Gatineau</td>\n",
       "    </tr>\n",
       "    <tr>\n",
       "      <th>23</th>\n",
       "      <td>2021-10-03</td>\n",
       "      <td>Chelsea</td>\n",
       "    </tr>\n",
       "    <tr>\n",
       "      <th>25</th>\n",
       "      <td>2021-10-03</td>\n",
       "      <td>Ottawa</td>\n",
       "    </tr>\n",
       "    <tr>\n",
       "      <th>28</th>\n",
       "      <td>2021-10-03</td>\n",
       "      <td>Carleton Place</td>\n",
       "    </tr>\n",
       "    <tr>\n",
       "      <th>29</th>\n",
       "      <td>2021-10-03</td>\n",
       "      <td>Madoc</td>\n",
       "    </tr>\n",
       "    <tr>\n",
       "      <th>48</th>\n",
       "      <td>2021-10-08</td>\n",
       "      <td>Scarborough</td>\n",
       "    </tr>\n",
       "    <tr>\n",
       "      <th>54</th>\n",
       "      <td>2021-10-09</td>\n",
       "      <td>Oakville</td>\n",
       "    </tr>\n",
       "    <tr>\n",
       "      <th>56</th>\n",
       "      <td>2021-10-09</td>\n",
       "      <td>Jordan Station</td>\n",
       "    </tr>\n",
       "    <tr>\n",
       "      <th>57</th>\n",
       "      <td>2021-10-09</td>\n",
       "      <td>Vineland Station</td>\n",
       "    </tr>\n",
       "    <tr>\n",
       "      <th>58</th>\n",
       "      <td>2021-10-09</td>\n",
       "      <td>Niagara Falls</td>\n",
       "    </tr>\n",
       "    <tr>\n",
       "      <th>59</th>\n",
       "      <td>2021-10-09</td>\n",
       "      <td>Niagara-on-the-Lake</td>\n",
       "    </tr>\n",
       "    <tr>\n",
       "      <th>63</th>\n",
       "      <td>2021-10-10</td>\n",
       "      <td>Innisfil</td>\n",
       "    </tr>\n",
       "    <tr>\n",
       "      <th>64</th>\n",
       "      <td>2021-10-10</td>\n",
       "      <td>Unorganized South Nipissing District</td>\n",
       "    </tr>\n",
       "    <tr>\n",
       "      <th>65</th>\n",
       "      <td>2021-10-10</td>\n",
       "      <td>Bracebridge</td>\n",
       "    </tr>\n",
       "    <tr>\n",
       "      <th>66</th>\n",
       "      <td>2021-10-10</td>\n",
       "      <td>Muskoka District Road 118 West\\nBracebridge</td>\n",
       "    </tr>\n",
       "    <tr>\n",
       "      <th>67</th>\n",
       "      <td>2021-10-11</td>\n",
       "      <td>Orillia</td>\n",
       "    </tr>\n",
       "  </tbody>\n",
       "</table>\n",
       "</div>"
      ],
      "text/plain": [
       "          Date                                         City\n",
       "0   2021-10-01                                    Thornhill\n",
       "2   2021-10-01                                  Scarborough\n",
       "10  2021-10-02                                       Barrie\n",
       "11  2021-10-02                                   Huntsville\n",
       "14  2021-10-02                                  Barry's Bay\n",
       "15  2021-10-02                                       Ottawa\n",
       "22  2021-10-03                                     Gatineau\n",
       "23  2021-10-03                                      Chelsea\n",
       "25  2021-10-03                                       Ottawa\n",
       "28  2021-10-03                               Carleton Place\n",
       "29  2021-10-03                                        Madoc\n",
       "48  2021-10-08                                  Scarborough\n",
       "54  2021-10-09                                     Oakville\n",
       "56  2021-10-09                               Jordan Station\n",
       "57  2021-10-09                             Vineland Station\n",
       "58  2021-10-09                                Niagara Falls\n",
       "59  2021-10-09                          Niagara-on-the-Lake\n",
       "63  2021-10-10                                     Innisfil\n",
       "64  2021-10-10         Unorganized South Nipissing District\n",
       "65  2021-10-10                                  Bracebridge\n",
       "66  2021-10-10  Muskoka District Road 118 West\\nBracebridge\n",
       "67  2021-10-11                                      Orillia"
      ]
     },
     "execution_count": 22,
     "metadata": {},
     "output_type": "execute_result"
    }
   ],
   "source": [
    "df"
   ]
  }
 ],
 "metadata": {
  "kernelspec": {
   "display_name": "Python 3",
   "language": "python",
   "name": "python3"
  },
  "language_info": {
   "codemirror_mode": {
    "name": "ipython",
    "version": 3
   },
   "file_extension": ".py",
   "mimetype": "text/x-python",
   "name": "python",
   "nbconvert_exporter": "python",
   "pygments_lexer": "ipython3",
   "version": "3.7.1"
  }
 },
 "nbformat": 4,
 "nbformat_minor": 4
}
