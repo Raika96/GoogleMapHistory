{
 "cells": [
  {
   "cell_type": "code",
   "execution_count": 2,
   "metadata": {},
   "outputs": [],
   "source": [
    "import pandas as pd, numpy as np, matplotlib.pyplot as plt, json, math, random"
   ]
  },
  {
   "cell_type": "markdown",
   "metadata": {},
   "source": [
    "First you need to download your google map history from [Google Takeout](https://takeout.google.com/settings/takeout?pli=1). Currently, Google map history folder structure is as follows:\n",
    "- Location History\n",
    "    - Semantic Location Hisory\n",
    "- Maps\n",
    "-Maps (your places)\n",
    "\n",
    "The data that we need is inside the Semantic Location History folder. You can load the data of the month that you intend to analyze."
   ]
  },
  {
   "cell_type": "code",
   "execution_count": 5,
   "metadata": {},
   "outputs": [],
   "source": [
    "hist = json.load(open('data/2021_OCTOBER.json'))\n",
    "timelineObjects = hist['timelineObjects']"
   ]
  },
  {
   "cell_type": "markdown",
   "metadata": {},
   "source": [
    "The data is consisted of \"placeVisit\" and \"activitySegment\", and \"placeVisit\" is used for generating the list of visited cities."
   ]
  },
  {
   "cell_type": "code",
   "execution_count": 6,
   "metadata": {},
   "outputs": [],
   "source": [
    "counter = 0\n",
    "timelineList = []\n",
    "placesVisited = []\n",
    "for obj in timelineObjects:\n",
    "    counter += 1\n",
    "    type = list(obj.keys())\n",
    "    if type == ['placeVisit']:\n",
    "        placesVisited.append(obj)\n"
   ]
  },
  {
   "cell_type": "code",
   "execution_count": 26,
   "metadata": {},
   "outputs": [],
   "source": [
    "cities = []\n",
    "df = pd.DataFrame(columns= ['Date', 'City'])\n",
    "from datetime import datetime\n",
    "\n",
    "\n",
    "counter = 0\n",
    "for place in placesVisited:\n",
    "    address = place['placeVisit']['location']['address']\n",
    "    nlf = '\\n'\n",
    "    city = address[address.index(nlf)+1:address.index(',')]\n",
    "    if city is \"\":\n",
    "        continue\n",
    "    cities.append(city)\n",
    "    startTime = place['placeVisit']['duration'][\"startTimestampMs\"]\n",
    "    time = datetime.fromtimestamp(int(startTime[:-3]))\n",
    "    df.loc[counter] = [str(time)[:10], city] \n",
    "    counter+=1\n",
    "    "
   ]
  },
  {
   "cell_type": "markdown",
   "metadata": {},
   "source": [
    "If you wanted to remove the cities that you are living to remove the spare information, you should just edit the MyCities list."
   ]
  },
  {
   "cell_type": "code",
   "execution_count": 27,
   "metadata": {},
   "outputs": [],
   "source": [
    "MyCities = ['Toronto', 'North York']\n",
    "df.drop_duplicates(inplace=True)\n",
    "df = df[~df['City'].isin(MyCities)]\n",
    "df = df.reset_index()\n",
    "df = df.drop(columns=\"index\")"
   ]
  },
  {
   "cell_type": "markdown",
   "metadata": {},
   "source": [
    "Now the list of cities and date of visit is stored in df data frame."
   ]
  }
 ],
 "metadata": {
  "kernelspec": {
   "display_name": "Python 3",
   "language": "python",
   "name": "python3"
  },
  "language_info": {
   "codemirror_mode": {
    "name": "ipython",
    "version": 3
   },
   "file_extension": ".py",
   "mimetype": "text/x-python",
   "name": "python",
   "nbconvert_exporter": "python",
   "pygments_lexer": "ipython3",
   "version": "3.7.1"
  }
 },
 "nbformat": 4,
 "nbformat_minor": 4
}
